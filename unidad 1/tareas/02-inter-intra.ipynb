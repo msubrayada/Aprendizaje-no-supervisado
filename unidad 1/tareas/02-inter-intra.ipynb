{
 "cells": [
  {
   "cell_type": "markdown",
   "id": "b9cabd8b-e3d5-4e84-b660-f62721bba4db",
   "metadata": {},
   "source": [
    "# Implementar la métrica intra/inter clusters\n",
    "\n",
    "En este ejercicio deberán implementar la métrica intra/inter clusters. La función debe recibir el conjunto de datos $X$ y las etiquetas de los clusters $y$. Además del número de pares a tomar. La línea \n",
    "```\n",
    "np.random.seed(0)\n",
    "```\n",
    "se usará para que siempre tome los mismo pares de puntos y así poder evaluar su implementación. La función deberá regresar el valor de la métrica.\n",
    "\n",
    "Ejecute el resto del código para obtener los scores de la métrica."
   ]
  },
  {
   "cell_type": "code",
   "execution_count": 1,
   "id": "8e1049b6-357a-41fd-856b-9abc41404b1a",
   "metadata": {},
   "outputs": [],
   "source": [
    "import numpy as np"
   ]
  },
  {
   "cell_type": "code",
   "execution_count": 5,
   "id": "fdc50c63-f584-4804-ac1f-56f39c509d5d",
   "metadata": {},
   "outputs": [],
   "source": [
    "def intra_inter(X, y, num_pairs):\n",
    "    np.random.seed(0)\n",
    "    pairs = np.random.randint(len(X), size = (num_pairs, 2))\n",
    "    #su código aquí."
   ]
  },
  {
   "cell_type": "code",
   "execution_count": 6,
   "id": "be91009d-bc97-4544-a377-bf3bd2107a23",
   "metadata": {},
   "outputs": [
    {
     "name": "stdout",
     "output_type": "stream",
     "text": [
      "None\n",
      "None\n",
      "None\n",
      "None\n"
     ]
    }
   ],
   "source": [
    "X = np.load(\"X.npy\")\n",
    "ys = []\n",
    "for i in range(4):\n",
    "    ys.append(np.load(f\"y_{i}.npy\"))\n",
    "for p in ys:\n",
    "    print(intra_inter(X, p, 500))"
   ]
  },
  {
   "cell_type": "code",
   "execution_count": null,
   "id": "72d07b9f-e62a-4831-89f7-a116aa8a62a4",
   "metadata": {},
   "outputs": [],
   "source": []
  }
 ],
 "metadata": {
  "kernelspec": {
   "display_name": "Python 3",
   "language": "python",
   "name": "python3"
  },
  "language_info": {
   "codemirror_mode": {
    "name": "ipython",
    "version": 3
   },
   "file_extension": ".py",
   "mimetype": "text/x-python",
   "name": "python",
   "nbconvert_exporter": "python",
   "pygments_lexer": "ipython3",
   "version": "3.8.8"
  }
 },
 "nbformat": 4,
 "nbformat_minor": 5
}
