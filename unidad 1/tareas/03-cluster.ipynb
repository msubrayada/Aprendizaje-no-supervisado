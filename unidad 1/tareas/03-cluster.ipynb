{
 "cells": [
  {
   "cell_type": "markdown",
   "id": "ce5e2b8c-dd8f-4328-a10f-12a2af6d10ae",
   "metadata": {},
   "source": [
    "# Obtener clusters.\n",
    "\n",
    "En este ejercicio se deberán obtener los clusters del conjunto de datos del archivo `X.npy`. Usar los algoritmos\n",
    "\n",
    "- k-means\n",
    "- DBSCAN\n",
    "- HDBSCAN\n",
    "- AgglomerativeClustering\n",
    "\n",
    "Luego evaluar la calidad de los cluster de cada algoritmo con las métricas intra/inter y silueta. Modificar los parámetros de los algoritmos para obtener clusters de buena calidad."
   ]
  },
  {
   "cell_type": "code",
   "execution_count": 61,
   "id": "e475c48c-af42-4722-a2d9-6e28f2fd66ad",
   "metadata": {},
   "outputs": [],
   "source": [
    "from sklearn.cluster import KMeans\n",
    "from sklearn.cluster import DBSCAN\n",
    "from sklearn.cluster import HDBSCAN\n",
    "from sklearn.cluster import AgglomerativeClustering\n",
    "import numpy as np\n",
    "from sklearn.metrics import silhouette_score"
   ]
  },
  {
   "cell_type": "code",
   "execution_count": 75,
   "id": "c1f15187-5450-4ff2-97ad-96bc674d3a5b",
   "metadata": {},
   "outputs": [],
   "source": [
    "#| echo: false\n",
    "def intra_inter(X, y, num_pairs):\n",
    "    np.random.seed(0)\n",
    "    pairs = np.random.randint(len(X), size = (num_pairs, 2))\n",
    "    \n",
    "\n",
    "    sum_inter = 0\n",
    "    num_inter = 0\n",
    "    sum_intra = 0\n",
    "    num_intra = 0\n",
    "    for pair in pairs:\n",
    "        if y[pair[0]] == y[pair[1]]:  \n",
    "            sum_intra += np.linalg.norm(X[pair[0]] - X[pair[1]])\n",
    "            num_intra += 1\n",
    "        else:\n",
    "            sum_inter += np.linalg.norm(X[pair[0]] - X[pair[1]])\n",
    "            num_inter += 1\n",
    "    intra = sum_intra / num_intra\n",
    "    inter = sum_inter / num_inter\n",
    "    return intra / inter"
   ]
  },
  {
   "cell_type": "code",
   "execution_count": 84,
   "id": "695ecc4f-e1ff-45e4-b7fc-06da455ab4be",
   "metadata": {},
   "outputs": [
    {
     "data": {
      "text/plain": [
       "(1797, 64)"
      ]
     },
     "execution_count": 84,
     "metadata": {},
     "output_type": "execute_result"
    }
   ],
   "source": [
    "X = np.load(\"X.npy\")\n",
    "X.shape"
   ]
  },
  {
   "cell_type": "code",
   "execution_count": 121,
   "id": "ce5f7745-8d7a-4140-9289-c0e8c359a4a2",
   "metadata": {},
   "outputs": [
    {
     "name": "stderr",
     "output_type": "stream",
     "text": [
      "C:\\Users\\msubr\\Anaconda3\\lib\\site-packages\\sklearn\\cluster\\_kmeans.py:1440: UserWarning: KMeans is known to have a memory leak on Windows with MKL, when there are less chunks than available threads. You can avoid it by setting the environment variable OMP_NUM_THREADS=8.\n",
      "  warnings.warn(\n"
     ]
    }
   ],
   "source": [
    "#| echo: false\n",
    "#| output: false\n",
    "#| warning: false\n",
    "km = KMeans(10, max_iter=1, n_init=1)\n",
    "y_km = km.fit_predict(X)"
   ]
  },
  {
   "cell_type": "code",
   "execution_count": 91,
   "id": "f1b16f9d-2f29-4c1d-bccb-c471e50f1b64",
   "metadata": {},
   "outputs": [
    {
     "data": {
      "text/plain": [
       "array([-1,  0,  1,  2,  3,  4,  5,  6,  7,  8,  9, 10, 11], dtype=int64)"
      ]
     },
     "execution_count": 91,
     "metadata": {},
     "output_type": "execute_result"
    }
   ],
   "source": [
    "#| echo: false\n",
    "#| output: false\n",
    "db = DBSCAN(eps=1.5, min_samples=2)\n",
    "y_dbs = db.fit_predict(X)\n",
    "np.unique(y_dbs)"
   ]
  },
  {
   "cell_type": "code",
   "execution_count": 96,
   "id": "3b31c151-fd24-487c-9e71-7f0a1cfa4dce",
   "metadata": {},
   "outputs": [
    {
     "data": {
      "text/plain": [
       "array([-1,  0,  1,  2,  3,  4,  5,  6,  7,  8,  9, 10, 11], dtype=int64)"
      ]
     },
     "execution_count": 96,
     "metadata": {},
     "output_type": "execute_result"
    }
   ],
   "source": [
    "#| echo: false\n",
    "#| output: false\n",
    "y_hdbs = HDBSCAN(min_cluster_size=10).fit_predict(X)\n",
    "np.unique(y_hdbs)"
   ]
  },
  {
   "cell_type": "code",
   "execution_count": 102,
   "id": "8d0eca47-38ff-4b37-a2d1-084d12b5d1f9",
   "metadata": {},
   "outputs": [],
   "source": [
    "#| echo: false\n",
    "#| output: false\n",
    "agg = AgglomerativeClustering(10)\n",
    "y_agg = agg.fit(X).labels_"
   ]
  },
  {
   "cell_type": "code",
   "execution_count": 109,
   "id": "a1d3a895-e94b-4e02-9a82-5133688920fe",
   "metadata": {},
   "outputs": [],
   "source": [
    "#| echo: false\n",
    "ys = [y_km, y_dbs, y_hdbs, y_agg]\n",
    "ii_s = []\n",
    "for p in ys:\n",
    "    ii_s.append(intra_inter(X, p, 500))"
   ]
  },
  {
   "cell_type": "code",
   "execution_count": 110,
   "id": "aebd2074-ce39-43c1-83d5-8fd0c852b9a3",
   "metadata": {},
   "outputs": [],
   "source": [
    "#| echo: false\n",
    "sil_s = []\n",
    "for p in ys:\n",
    "    sil_s.append(silhouette_score(X, p, metric='euclidean'))"
   ]
  },
  {
   "cell_type": "markdown",
   "id": "8218d3e1-a4d3-4207-995f-a9beb26e1e57",
   "metadata": {},
   "source": [
    "## Resultados\n",
    "\n",
    "Los resultados deberán ser mostrados usando el siguiente código."
   ]
  },
  {
   "cell_type": "code",
   "execution_count": 105,
   "id": "c48ba349-cd8f-43cc-9e13-6e1ddbff3a3f",
   "metadata": {},
   "outputs": [],
   "source": [
    "import pandas as pd"
   ]
  },
  {
   "cell_type": "code",
   "execution_count": null,
   "id": "633420b1-b716-4f36-a677-0b11df73af10",
   "metadata": {},
   "outputs": [],
   "source": [
    "res = {\"algoritmos\": [\"k-means\", \"DBSCAN\", \"HDBSCAN\", \"AgglomerativeClustering\"],\n",
    "         \"intra/inter\": # aquí sus scores\n",
    "         \"silueta\": # aquí sus scores\n",
    "      }\n",
    "output = pd.DataFrame(res)\n",
    "output"
   ]
  },
  {
   "cell_type": "code",
   "execution_count": 120,
   "id": "d6c4f190-432b-47ef-931a-0d4217ac0230",
   "metadata": {},
   "outputs": [
    {
     "data": {
      "text/html": [
       "<div>\n",
       "<style scoped>\n",
       "    .dataframe tbody tr th:only-of-type {\n",
       "        vertical-align: middle;\n",
       "    }\n",
       "\n",
       "    .dataframe tbody tr th {\n",
       "        vertical-align: top;\n",
       "    }\n",
       "\n",
       "    .dataframe thead th {\n",
       "        text-align: right;\n",
       "    }\n",
       "</style>\n",
       "<table border=\"1\" class=\"dataframe\">\n",
       "  <thead>\n",
       "    <tr style=\"text-align: right;\">\n",
       "      <th></th>\n",
       "      <th>algoritmos</th>\n",
       "      <th>intra/inter</th>\n",
       "      <th>silueta</th>\n",
       "    </tr>\n",
       "  </thead>\n",
       "  <tbody>\n",
       "    <tr>\n",
       "      <th>0</th>\n",
       "      <td>k-means</td>\n",
       "      <td>0.735903</td>\n",
       "      <td>0.159457</td>\n",
       "    </tr>\n",
       "    <tr>\n",
       "      <th>1</th>\n",
       "      <td>DBSCAN</td>\n",
       "      <td>0.908178</td>\n",
       "      <td>-0.043750</td>\n",
       "    </tr>\n",
       "    <tr>\n",
       "      <th>2</th>\n",
       "      <td>HDBSCAN</td>\n",
       "      <td>0.916240</td>\n",
       "      <td>0.039168</td>\n",
       "    </tr>\n",
       "    <tr>\n",
       "      <th>3</th>\n",
       "      <td>AgglomerativeClustering</td>\n",
       "      <td>0.721954</td>\n",
       "      <td>0.178497</td>\n",
       "    </tr>\n",
       "  </tbody>\n",
       "</table>\n",
       "</div>"
      ],
      "text/plain": [
       "                algoritmos  intra/inter   silueta\n",
       "0                  k-means     0.735903  0.159457\n",
       "1                   DBSCAN     0.908178 -0.043750\n",
       "2                  HDBSCAN     0.916240  0.039168\n",
       "3  AgglomerativeClustering     0.721954  0.178497"
      ]
     },
     "execution_count": 120,
     "metadata": {},
     "output_type": "execute_result"
    }
   ],
   "source": [
    "#| echo: false\n",
    "res = {\"algoritmos\": [\"k-means\", \"DBSCAN\", \"HDBSCAN\", \"AgglomerativeClustering\"],\n",
    "         \"intra/inter\":ii_s, # aquí sus scores\n",
    "         \"silueta\": sil_s# aquí sus scores\n",
    "      }\n",
    "output = pd.DataFrame(res)\n",
    "output"
   ]
  },
  {
   "cell_type": "code",
   "execution_count": null,
   "id": "8f9cb383-ffbc-48ed-b5cf-b04d6085689a",
   "metadata": {},
   "outputs": [],
   "source": []
  }
 ],
 "metadata": {
  "kernelspec": {
   "display_name": "Python 3",
   "language": "python",
   "name": "python3"
  },
  "language_info": {
   "codemirror_mode": {
    "name": "ipython",
    "version": 3
   },
   "file_extension": ".py",
   "mimetype": "text/x-python",
   "name": "python",
   "nbconvert_exporter": "python",
   "pygments_lexer": "ipython3",
   "version": "3.8.8"
  }
 },
 "nbformat": 4,
 "nbformat_minor": 5
}
